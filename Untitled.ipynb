{
 "cells": [
  {
   "cell_type": "code",
   "execution_count": null,
   "id": "21342507-8599-4198-8b17-7e9b2f625c2f",
   "metadata": {},
   "outputs": [],
   "source": []
  }
 ],
 "metadata": {
  "kernelspec": {
   "display_name": "",
   "name": ""
  },
  "language_info": {
   "name": ""
  }
 },
 "nbformat": 4,
 "nbformat_minor": 5
}
