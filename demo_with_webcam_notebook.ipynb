{
 "cells": [
  {
   "cell_type": "code",
   "execution_count": 1,
   "id": "initial_id",
   "metadata": {
    "ExecuteTime": {
     "end_time": "2024-11-20T19:01:27.037464Z",
     "start_time": "2024-11-20T19:01:26.535571Z"
    }
   },
   "outputs": [
    {
     "name": "stderr",
     "output_type": "stream",
     "text": [
      "/Users/haraldkriebisch/Development/sisax-hackathon-skafra/.venv/lib/python3.9/site-packages/urllib3/__init__.py:35: NotOpenSSLWarning: urllib3 v2 only supports OpenSSL 1.1.1+, currently the 'ssl' module is compiled with 'LibreSSL 2.8.3'. See: https://github.com/urllib3/urllib3/issues/3020\n",
      "  warnings.warn(\n"
     ]
    }
   ],
   "source": [
    "import aisisax.object_detection.lsa_interface as aisax_object_detection\n",
    "import aisisax.llm.openai_connector as aisax_openai\n",
    "import aisisax.llm.ollama_connector as aisax_ollama\n",
    "import cv2\n",
    "import json\n",
    "\n",
    "from IPython.display import display"
   ]
  },
  {
   "cell_type": "code",
   "execution_count": 2,
   "id": "d1aab7c3106eca5a",
   "metadata": {
    "ExecuteTime": {
     "end_time": "2024-11-20T19:01:27.664456Z",
     "start_time": "2024-11-20T19:01:27.662015Z"
    }
   },
   "outputs": [],
   "source": [
    "pImage = \"assets/car.jpeg\""
   ]
  },
  {
   "cell_type": "code",
   "execution_count": 3,
   "id": "834ffe6f-0b72-4720-9558-730dbe557e7b",
   "metadata": {},
   "outputs": [],
   "source": [
    "cam = cv2.VideoCapture(0)\n",
    "\n",
    "cv2.namedWindow(\"test\")\n",
    "img_counter = 0\n",
    "\n",
    "# Speichert den bisherigen Spielablauf aus sicht des dritten Spielers\n",
    "game_dic = {\n",
    "    \"initial_hand_cards\": [],\n",
    "    \"player_of_first_turn\": \"\",\n",
    "    \"maximum_bidding_value\": 0,\n",
    "    \"bidding_winner\": \"\",\n",
    "    \n",
    "}\n"
   ]
  },
  {
   "cell_type": "code",
   "execution_count": 4,
   "id": "b1d14e52-15cf-4075-a56e-929e3a4fd1f5",
   "metadata": {},
   "outputs": [],
   "source": [
    "def getImage():\n",
    "    img_name = \"assets/opencv_frame_{}.png\".format(img_counter)\n",
    "    cv2.imwrite(img_name, frame)\n",
    "    print(\"{} written!\".format(img_name))\n",
    "\n",
    "    # See if a skat card was found and show the resulting image detection\n",
    "    res = aisax_object_detection.call_lsa(img_name, \"card\")\n",
    "    display(res)\n",
    "    return img_name"
   ]
  },
  {
   "cell_type": "code",
   "execution_count": 5,
   "id": "3edbae19-816a-4a8b-84cc-9e5f94aeffe5",
   "metadata": {},
   "outputs": [],
   "source": [
    "def getInitialPlayingCards():\n",
    "    #img = getImage()\n",
    "    img = \"assets/opencv_frame_0.png\"\n",
    "\n",
    "    openai_result = aisax_openai.generate_multimodal_answer(\"\"\"\n",
    "Welche Skatkarten kannst du erkennen? returne ein array of objects wobei jedes objekt eine karte repräsentiert. \n",
    "jedes objekt hat zwei attribute \"symbol\" and \"kind\".\n",
    "\n",
    "\"kind\" können ausschließlich items aus der folgenden liste sein: [\"sieben\", \"acht\", \"neun\", \"zehn\", \"bube\", \"Dame\", \"könig\", \"ass\"];\n",
    "\"symbol\" können ausschließlich items aus der folgenden liste sein: [\"kreuz\", \"blatt\", \"herz\", \"karo\"]\n",
    "\n",
    "Der Output sollte sein, e.g. \n",
    "[\n",
    "{\n",
    "    symbol: \"herz\",\n",
    "    kind: \"sieben\"\n",
    "}\n",
    "]\n",
    "\"\"\", image_path=img)\n",
    "    # Step 1: Remove the wrapping ```json and ``` characters\n",
    "    clean_json = openai_result.strip(\"```json\").strip(\"```\")\n",
    "\n",
    "    # Step 2: Parse the cleaned string into a Python list\n",
    "    result_list = json.loads(clean_json)\n",
    "    # TODO type umwandeln, sollte ein array sein.\n",
    "    game_dic[\"initial_hand_cards\"] = result_list \n",
    "    print(result_list)"
   ]
  },
  {
   "cell_type": "code",
   "execution_count": 6,
   "id": "8ae9f723-c8ac-4555-9677-e4c80a323f9e",
   "metadata": {},
   "outputs": [],
   "source": [
    "def getPlayerOfFirstTurn():\n",
    "    playerOfFirstTurn = input(\"Who is playing the first turn? (p1, p2, com) (sequence is always ... -> p1 -> p2 -> com -> p1 -> ...)\")\n",
    "    print(f\"Alright so {playerOfFirstTurn} will be going first this round!\")\n",
    "    game_dic[\"player_of_first_turn\"] = playerOfFirstTurn"
   ]
  },
  {
   "cell_type": "code",
   "execution_count": 7,
   "id": "ad35492a-0675-42c2-a2fd-db76e149afb6",
   "metadata": {},
   "outputs": [],
   "source": [
    "def isFirstPlayer():\n",
    "    return game_dic[\"player_of_first_turn\"] == \"com\""
   ]
  },
  {
   "cell_type": "code",
   "execution_count": 8,
   "id": "41bb9528-ef3e-4782-bf1c-b477e4f3b721",
   "metadata": {},
   "outputs": [],
   "source": [
    "# Maximalen Reizwert erfragen\n",
    "def getMaximumBiddingValue():\n",
    "    openai_result = aisax_openai.generate_answer(f\"\"\"\n",
    "\n",
    "    \n",
    "Wie weit kann ich reizen? Gib mir einen Integer zurück\n",
    "Hier sind die meine Hand-Karten: {game_dic[\"initial_hand_cards\"]}\n",
    "\n",
    "Hier sind die reiz-regeln:\n",
    "\n",
    "Das Berechnen des Reizwerts\n",
    "Die Rechnung für den Reizwert hat mehrere Faktoren:\n",
    "\n",
    "Wie viele Buben habe ich bzw. habe ich nicht? Noch genauer: Wie viele Buben habe ich fortlaufend bzw. wie viele Buben fehlen mir fortlaufend?\n",
    "\n",
    "Mit \"fortlaufend\" ist immer die Reihe gemeint, in der die Karten der Stärke nach sortiert werden. Also vom Kreuz-Buben, über den Pik-Buben, Herz-Buben, Karo-Buben.\n",
    "Habe ich alle vier Buben, so zählt man \"mit 4\". Habe ich keinen Buben, so zählt man \"ohne 4\".\n",
    "Habe ich nur den Kreuz-Buben \"mit 1\", habe ich alle anderen Buben außer dem Kreuz-Buben \"ohne 1\".\n",
    "Soweit ganz einfach, jetzt eine kleine Falle: ist die Reihe unterbrochen, wird nur bis zum fehlenden Buben gezählt: hat man z.B. alle Buben außer dem Pik-Buben, hat man \"mit 1\", weil nach dem ersten Buben die Reihe unterbrochen ist. Hat man alle Buben bis auf den Herz-Buben, hat man \"mit 2\", hat man nur den Herz-Buben, dann \"ohne 2\".\n",
    "\n",
    "Dafür, dass man bereit ist zu spielen, bekommt man einen Punkt. Das nennt man beim Reizen \"Spiel\" und rechnet \"+1\".\n",
    "Hat man also seine Buben-Reihe gezählt und hat z.B. \"mit 2\" (den Kreuz-Buben und den Pik-Buben, aber keinen Herz-Buben), rechnet man einfach \"mit 2\" und \"+1\". Der Skatspieler zählt also seine zwei fortlaufenden Buben und addiert die \"+1\", weil er spielen möchte und sagt folgendes: \"Mit zwei Spiel drei\".\n",
    "\n",
    "Jetzt ist es fast geschafft. Den bisher errechneten Wert (fortlaufende Buben/fortlaufend fehlende Buben + 1) multipliziert man mit dem Wert, den ein Spiel hat. Da dieser Wert einfach irgendwann einmal festgelegt wurde, lernt man ihn entweder auswendig oder schaut jedes Mal nach:\n",
    "Farbspiel Karo: 9 | Farbspiel Herz: 10 | Farbspiel Pik: 11 | Farbspiel Kreuz 12 | Grand: 24\n",
    "\n",
    "Jetzt rechnen wir in einem Beispiel alles zusammen:\n",
    "\n",
    "Kreuz-Bube und Pik-Bube: Mit 2 = 2\n",
    "Ich würde spielen, also +1: Mit 2 Spiel 3 = 3\n",
    "Ich wähle ein Herz-Farbspiel (Wert/Faktor 10): Mit 2 Spiel 3 × 10 = 30\n",
    "Der Reizwert beträgt folglich \"30\".\n",
    "\n",
    "GIB MIR NUR DIE ZAHL ZURÜCK OHNE JEGLICHE ERKLÄRUNG, FOLGLICH MAXIMAL DREI ZEICHEN!!!!\n",
    "\"\"\"\n",
    "                                                )\n",
    "    # TODO type umwandeln, sollte ein integer sein\n",
    "    game_dic[\"maximum_bidding_value\"] = openai_result \n",
    "    print(f\"Ich werde bis maximal {game_dic['maximum_bidding_value']} reizen.\")"
   ]
  },
  {
   "cell_type": "code",
   "execution_count": 9,
   "id": "f8400c59-39e9-44ce-ae0b-d5fd91469094",
   "metadata": {},
   "outputs": [],
   "source": [
    "def getBiddingWinner():\n",
    "    biddingWinner = input(\"Who won the bidding? (p1, p2, com)\")\n",
    "    print(f\"Alright so {biddingWinner} won the bidding, got it!\")\n",
    "    game_dic[\"bidding_winner\"] = biddingWinner"
   ]
  },
  {
   "cell_type": "code",
   "execution_count": 10,
   "id": "e8d62d60-55fd-477c-b101-a7ffd08d37af",
   "metadata": {},
   "outputs": [],
   "source": [
    "def getGameContract():\n",
    "    if( game_dic[\"bidding_winner\"] == \"com\"):\n",
    "    \n",
    "        print(\"Hmmm... let's think...\")\n",
    "        # TODO: Currently we are cool and always playing \"hand\" so we don't look into the skat. We are so confident!\n",
    "        print(\"We are playing 'hand' for sure!\")\n",
    "    \n",
    "        openai_result = aisax_openai.generate_answer(f\"\"\"\n",
    "    Welches Spiel sollte ich hier am besten spielen?\n",
    "    Erwarte Rückgabewert: \"herz\", \"null\", \"blatt\", \"grand\", ...\n",
    "\n",
    "    my cards: {game_dic[\"initial_hand_cards\"]}\n",
    "    \"\"\")\n",
    "        game_dic[\"game_contract\"] = openai_result\n",
    "\n",
    "    else:\n",
    "        game_dic[\"game_contract\"] = input(\"Was spielen wir denn? (null, grand, karo, herz, pik, kreuz)\")\n"
   ]
  },
  {
   "cell_type": "code",
   "execution_count": null,
   "id": "79bb0003-ed09-4413-bfb9-f8c8eb9ea2e4",
   "metadata": {},
   "outputs": [
    {
     "name": "stderr",
     "output_type": "stream",
     "text": [
      "2024-11-22 15:59:43.848 python[88195:1904312] +[IMKClient subclass]: chose IMKClient_Legacy\n",
      "2024-11-22 15:59:43.848 python[88195:1904312] +[IMKInputSession subclass]: chose IMKInputSession_Legacy\n"
     ]
    },
    {
     "name": "stdout",
     "output_type": "stream",
     "text": [
      "[{'symbol': 'herz', 'kind': 'könig'}, {'symbol': 'karo', 'kind': 'Dame'}, {'symbol': 'kreuz', 'kind': 'könig'}, {'symbol': 'blatt', 'kind': 'sieben'}, {'symbol': 'herz', 'kind': 'sieben'}, {'symbol': 'blatt', 'kind': 'Dame'}, {'symbol': 'herz', 'kind': 'könig'}, {'symbol': 'blatt', 'kind': 'könig'}, {'symbol': 'herz', 'kind': 'zehn'}, {'symbol': 'blatt', 'kind': 'zehn'}]\n"
     ]
    },
    {
     "name": "stdin",
     "output_type": "stream",
     "text": [
      "Who is playing the first turn? (p1, p2, com) (sequence is always ... -> p1 -> p2 -> com -> p1 -> ...) p1\n"
     ]
    },
    {
     "name": "stdout",
     "output_type": "stream",
     "text": [
      "Alright so p1 will be going first this round!\n",
      "Ich werde bis maximal 0 reizen.\n"
     ]
    }
   ],
   "source": [
    "while True:\n",
    "    ret, frame = cam.read()\n",
    "    if not ret:\n",
    "        print(\"failed to grab frame\")\n",
    "        break\n",
    "    cv2.imshow(\"test\", frame)\n",
    "\n",
    "    k = cv2.waitKey(1)\n",
    "    if k%256 == 27:\n",
    "        # ESC pressed\n",
    "        print(\"Escape hit, closing...\")\n",
    "        break\n",
    "    elif k%256 == 32:\n",
    "        # SPACE pressed so we got a new image\n",
    "        if(len(game_dic[\"initial_hand_cards\"]) == 0):\n",
    "            getInitialPlayingCards()\n",
    "            getPlayerOfFirstTurn()\n",
    "\n",
    "            getMaximumBiddingValue()\n",
    "            getBiddingWinner()\n",
    "            getGameContract()\n",
    "\n",
    "            if(isFirstPlayer()):\n",
    "                print(\"do first turn\")\n",
    "                \n",
    "            continue\n",
    "\n",
    "        \n",
    "        \n",
    "        img_counter += 1\n",
    "\n",
    "cam.release()\n",
    "cv2.destroyAllWindows()"
   ]
  },
  {
   "cell_type": "code",
   "execution_count": null,
   "id": "4d954915bbb14d12",
   "metadata": {
    "ExecuteTime": {
     "end_time": "2024-11-20T19:11:27.364Z",
     "start_time": "2024-11-20T19:11:27.329308Z"
    }
   },
   "outputs": [],
   "source": [
    "# Object detection"
   ]
  },
  {
   "cell_type": "code",
   "execution_count": null,
   "id": "32f7ffbd496de3f7",
   "metadata": {
    "ExecuteTime": {
     "end_time": "2024-11-20T18:34:17.885085Z",
     "start_time": "2024-11-20T18:34:08.857202Z"
    }
   },
   "outputs": [],
   "source": [
    "# res = aisax_object_detection.call_lsa(pImage, \"skatkarten\")"
   ]
  },
  {
   "cell_type": "code",
   "execution_count": null,
   "id": "674f31975fa2263f",
   "metadata": {
    "ExecuteTime": {
     "end_time": "2024-11-20T18:34:18.159883Z",
     "start_time": "2024-11-20T18:34:17.886320Z"
    }
   },
   "outputs": [],
   "source": [
    "# display(res)"
   ]
  },
  {
   "cell_type": "markdown",
   "id": "fbc8eb333f0e2b0e",
   "metadata": {},
   "source": [
    "# Interaktion mit LLMs\n",
    "In den folgenden Zellen wird der Code zur Interaktion mit multi-modalen LLMs gezeigt. Wir nutzen sowohl GPT4o für einfache Textanfragen, sowie für multi-modale Text-Bild-Anfragen. Im Anschluss wird die gleiche Funktionalität noch für ein selbst-gehostetes open-source LLM bei Cloud&Heat per ollama gezeigt."
   ]
  },
  {
   "cell_type": "markdown",
   "id": "9e933b204bb568b6",
   "metadata": {},
   "source": [
    "## OpenAI GPT-4o"
   ]
  },
  {
   "cell_type": "code",
   "execution_count": null,
   "id": "557d9a8ce5d00413",
   "metadata": {
    "ExecuteTime": {
     "end_time": "2024-11-20T18:51:41.764575Z",
     "start_time": "2024-11-20T18:51:39.732444Z"
    }
   },
   "outputs": [],
   "source": [
    "# aisax_openai.generate_answer(\"Warum ist der Himmel blau?\")"
   ]
  },
  {
   "cell_type": "code",
   "execution_count": null,
   "id": "290ef3aa694e5ff7",
   "metadata": {
    "ExecuteTime": {
     "end_time": "2024-11-20T19:01:37.742601Z",
     "start_time": "2024-11-20T19:01:32.553063Z"
    }
   },
   "outputs": [],
   "source": [
    "# aisax_openai.generate_multimodal_answer(\"Beschreibe das Bild\", image_path=pImage)"
   ]
  },
  {
   "cell_type": "markdown",
   "id": "d25643827663088b",
   "metadata": {},
   "source": [
    "## LLAMA3.1 90B via OLLAMA @ CLOUD&HEAT"
   ]
  },
  {
   "cell_type": "code",
   "execution_count": null,
   "id": "3826a9ed93fa7305",
   "metadata": {},
   "outputs": [],
   "source": []
  },
  {
   "cell_type": "code",
   "execution_count": null,
   "id": "7329bef7-68da-4a98-80b2-9ffb9dfc9fcc",
   "metadata": {},
   "outputs": [],
   "source": []
  }
 ],
 "metadata": {
  "kernelspec": {
   "display_name": "Python 3 (ipykernel)",
   "language": "python",
   "name": "python3"
  },
  "language_info": {
   "codemirror_mode": {
    "name": "ipython",
    "version": 3
   },
   "file_extension": ".py",
   "mimetype": "text/x-python",
   "name": "python",
   "nbconvert_exporter": "python",
   "pygments_lexer": "ipython3",
   "version": "3.9.6"
  }
 },
 "nbformat": 4,
 "nbformat_minor": 5
}
